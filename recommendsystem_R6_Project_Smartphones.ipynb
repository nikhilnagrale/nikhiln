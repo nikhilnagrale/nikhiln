{
  "nbformat": 4,
  "nbformat_minor": 0,
  "metadata": {
    "kernelspec": {
      "display_name": "Python 3",
      "language": "python",
      "name": "python3"
    },
    "language_info": {
      "codemirror_mode": {
        "name": "ipython",
        "version": 3
      },
      "file_extension": ".py",
      "mimetype": "text/x-python",
      "name": "python",
      "nbconvert_exporter": "python",
      "pygments_lexer": "ipython3",
      "version": "3.6.5"
    },
    "colab": {
      "name": "recommendsystem.ipynb",
      "provenance": [],
      "collapsed_sections": []
    }
  },
  "cells": [
    {
      "cell_type": "code",
      "metadata": {
        "id": "0Zsuhemn2i8B"
      },
      "source": [
        "import pandas as pd\n",
        "import numpy as np\n",
        "import os "
      ],
      "execution_count": 1,
      "outputs": []
    },
    {
      "cell_type": "code",
      "metadata": {
        "colab": {
          "base_uri": "https://localhost:8080/"
        },
        "id": "SE2HOTSY2mtm",
        "outputId": "03e747e6-a5f1-4206-dcb3-258771a67d98"
      },
      "source": [
        "from google.colab import drive\n",
        "drive.mount('/content/drive/')"
      ],
      "execution_count": 2,
      "outputs": [
        {
          "output_type": "stream",
          "text": [
            "Mounted at /content/drive/\n"
          ],
          "name": "stdout"
        }
      ]
    },
    {
      "cell_type": "code",
      "metadata": {
        "id": "1qWlDXiZ3oR1"
      },
      "source": [
        "os.chdir('/content/drive/MyDrive/Colab Notebooks')"
      ],
      "execution_count": 4,
      "outputs": []
    },
    {
      "cell_type": "markdown",
      "metadata": {
        "id": "El2tffv_8q9b"
      },
      "source": [
        "Concatenating all csv files into one as number of columns and data are identical\r\n",
        "\r\n",
        "---\r\n",
        "\r\n"
      ]
    },
    {
      "cell_type": "code",
      "metadata": {
        "id": "S-4MIOPl2i8I"
      },
      "source": [
        "#ds = pd.read_csv(\"phone_user_review_file_1.csv\")\n",
        "ph_1 = pd.read_csv(\"phone_user_review_file_1.csv\", sep=\",\", error_bad_lines=False, encoding=\"latin-1\")\n",
        "ph_2 = pd.read_csv(\"phone_user_review_file_2.csv\", sep=\",\", error_bad_lines=False, encoding=\"latin-1\")\n",
        "ph_3 = pd.read_csv(\"phone_user_review_file_3.csv\", sep=\",\", error_bad_lines=False, encoding=\"latin-1\")\n",
        "ph_4 = pd.read_csv(\"phone_user_review_file_4.csv\", sep=\",\", error_bad_lines=False, encoding=\"latin-1\")\n",
        "ph_5 = pd.read_csv(\"phone_user_review_file_5.csv\", sep=\",\", error_bad_lines=False, encoding=\"latin-1\")\n",
        "ph_6 = pd.read_csv(\"phone_user_review_file_6.csv\", sep=\",\", error_bad_lines=False, encoding=\"latin-1\")"
      ],
      "execution_count": 5,
      "outputs": []
    },
    {
      "cell_type": "code",
      "metadata": {
        "id": "77Q_bV1y2i8J",
        "colab": {
          "base_uri": "https://localhost:8080/"
        },
        "outputId": "370a35bb-e413-463d-fe04-6bfe749d7d39"
      },
      "source": [
        "print(ph_1.shape, ph_2.shape, ph_3.shape, ph_4.shape, ph_5.shape, ph_6.shape)"
      ],
      "execution_count": 6,
      "outputs": [
        {
          "output_type": "stream",
          "text": [
            "(374910, 11) (114925, 11) (312961, 11) (98284, 11) (350216, 11) (163837, 11)\n"
          ],
          "name": "stdout"
        }
      ]
    },
    {
      "cell_type": "code",
      "metadata": {
        "id": "vRKqLiy72i8N",
        "colab": {
          "base_uri": "https://localhost:8080/"
        },
        "outputId": "f73c7dcc-0c4e-48dd-c83d-59d7921f83c7"
      },
      "source": [
        "ph = pd.concat([ph_1, ph_2, ph_3,ph_4, ph_5, ph_6])\r\n",
        "print(ph.shape)"
      ],
      "execution_count": 7,
      "outputs": [
        {
          "output_type": "stream",
          "text": [
            "(1415133, 11)\n"
          ],
          "name": "stdout"
        }
      ]
    },
    {
      "cell_type": "code",
      "metadata": {
        "colab": {
          "base_uri": "https://localhost:8080/",
          "height": 586
        },
        "id": "CBn6JDzX2i8N",
        "outputId": "7a9b21ae-53bf-4dd3-acd9-b2776fd39eda"
      },
      "source": [
        "ph.head()"
      ],
      "execution_count": 8,
      "outputs": [
        {
          "output_type": "execute_result",
          "data": {
            "text/html": [
              "<div>\n",
              "<style scoped>\n",
              "    .dataframe tbody tr th:only-of-type {\n",
              "        vertical-align: middle;\n",
              "    }\n",
              "\n",
              "    .dataframe tbody tr th {\n",
              "        vertical-align: top;\n",
              "    }\n",
              "\n",
              "    .dataframe thead th {\n",
              "        text-align: right;\n",
              "    }\n",
              "</style>\n",
              "<table border=\"1\" class=\"dataframe\">\n",
              "  <thead>\n",
              "    <tr style=\"text-align: right;\">\n",
              "      <th></th>\n",
              "      <th>phone_url</th>\n",
              "      <th>date</th>\n",
              "      <th>lang</th>\n",
              "      <th>country</th>\n",
              "      <th>source</th>\n",
              "      <th>domain</th>\n",
              "      <th>score</th>\n",
              "      <th>score_max</th>\n",
              "      <th>extract</th>\n",
              "      <th>author</th>\n",
              "      <th>product</th>\n",
              "    </tr>\n",
              "  </thead>\n",
              "  <tbody>\n",
              "    <tr>\n",
              "      <th>0</th>\n",
              "      <td>/cellphones/samsung-galaxy-s8/</td>\n",
              "      <td>5/2/2017</td>\n",
              "      <td>en</td>\n",
              "      <td>us</td>\n",
              "      <td>Verizon Wireless</td>\n",
              "      <td>verizonwireless.com</td>\n",
              "      <td>10.0</td>\n",
              "      <td>10.0</td>\n",
              "      <td>As a diehard Samsung fan who has had every Sam...</td>\n",
              "      <td>CarolAnn35</td>\n",
              "      <td>Samsung Galaxy S8</td>\n",
              "    </tr>\n",
              "    <tr>\n",
              "      <th>1</th>\n",
              "      <td>/cellphones/samsung-galaxy-s8/</td>\n",
              "      <td>4/28/2017</td>\n",
              "      <td>en</td>\n",
              "      <td>us</td>\n",
              "      <td>Phone Arena</td>\n",
              "      <td>phonearena.com</td>\n",
              "      <td>10.0</td>\n",
              "      <td>10.0</td>\n",
              "      <td>Love the phone. the phone is sleek and smooth ...</td>\n",
              "      <td>james0923</td>\n",
              "      <td>Samsung Galaxy S8</td>\n",
              "    </tr>\n",
              "    <tr>\n",
              "      <th>2</th>\n",
              "      <td>/cellphones/samsung-galaxy-s8/</td>\n",
              "      <td>5/4/2017</td>\n",
              "      <td>en</td>\n",
              "      <td>us</td>\n",
              "      <td>Amazon</td>\n",
              "      <td>amazon.com</td>\n",
              "      <td>6.0</td>\n",
              "      <td>10.0</td>\n",
              "      <td>Adequate feel. Nice heft. Processor's still sl...</td>\n",
              "      <td>R. Craig</td>\n",
              "      <td>Samsung Galaxy S8 (64GB) G950U 5.8\" 4G LTE Unl...</td>\n",
              "    </tr>\n",
              "    <tr>\n",
              "      <th>3</th>\n",
              "      <td>/cellphones/samsung-galaxy-s8/</td>\n",
              "      <td>5/2/2017</td>\n",
              "      <td>en</td>\n",
              "      <td>us</td>\n",
              "      <td>Samsung</td>\n",
              "      <td>samsung.com</td>\n",
              "      <td>9.2</td>\n",
              "      <td>10.0</td>\n",
              "      <td>Never disappointed. One of the reasons I've be...</td>\n",
              "      <td>Buster2020</td>\n",
              "      <td>Samsung Galaxy S8 64GB (AT&amp;T)</td>\n",
              "    </tr>\n",
              "    <tr>\n",
              "      <th>4</th>\n",
              "      <td>/cellphones/samsung-galaxy-s8/</td>\n",
              "      <td>5/11/2017</td>\n",
              "      <td>en</td>\n",
              "      <td>us</td>\n",
              "      <td>Verizon Wireless</td>\n",
              "      <td>verizonwireless.com</td>\n",
              "      <td>4.0</td>\n",
              "      <td>10.0</td>\n",
              "      <td>I've now found that i'm in a group of people t...</td>\n",
              "      <td>S Ate Mine</td>\n",
              "      <td>Samsung Galaxy S8</td>\n",
              "    </tr>\n",
              "  </tbody>\n",
              "</table>\n",
              "</div>"
            ],
            "text/plain": [
              "                        phone_url  ...                                            product\n",
              "0  /cellphones/samsung-galaxy-s8/  ...                                  Samsung Galaxy S8\n",
              "1  /cellphones/samsung-galaxy-s8/  ...                                  Samsung Galaxy S8\n",
              "2  /cellphones/samsung-galaxy-s8/  ...  Samsung Galaxy S8 (64GB) G950U 5.8\" 4G LTE Unl...\n",
              "3  /cellphones/samsung-galaxy-s8/  ...                      Samsung Galaxy S8 64GB (AT&T)\n",
              "4  /cellphones/samsung-galaxy-s8/  ...                                  Samsung Galaxy S8\n",
              "\n",
              "[5 rows x 11 columns]"
            ]
          },
          "metadata": {
            "tags": []
          },
          "execution_count": 8
        }
      ]
    },
    {
      "cell_type": "code",
      "metadata": {
        "colab": {
          "base_uri": "https://localhost:8080/"
        },
        "id": "oHMhy2T82i8P",
        "outputId": "1f1bec11-2280-4344-a8ec-bcee8712bc8d"
      },
      "source": [
        "ph.columns"
      ],
      "execution_count": 9,
      "outputs": [
        {
          "output_type": "execute_result",
          "data": {
            "text/plain": [
              "Index(['phone_url', 'date', 'lang', 'country', 'source', 'domain', 'score',\n",
              "       'score_max', 'extract', 'author', 'product'],\n",
              "      dtype='object')"
            ]
          },
          "metadata": {
            "tags": []
          },
          "execution_count": 9
        }
      ]
    },
    {
      "cell_type": "code",
      "metadata": {
        "colab": {
          "base_uri": "https://localhost:8080/"
        },
        "id": "J0c9RHb42i8Q",
        "outputId": "d848c62d-fbc9-4750-97fb-32d7a19c2da5"
      },
      "source": [
        "# check nan \r\n",
        "ph.isin([np.nan]).any()"
      ],
      "execution_count": 10,
      "outputs": [
        {
          "output_type": "execute_result",
          "data": {
            "text/plain": [
              "phone_url    False\n",
              "date         False\n",
              "lang         False\n",
              "country      False\n",
              "source       False\n",
              "domain       False\n",
              "score         True\n",
              "score_max     True\n",
              "extract       True\n",
              "author        True\n",
              "product       True\n",
              "dtype: bool"
            ]
          },
          "metadata": {
            "tags": []
          },
          "execution_count": 10
        }
      ]
    },
    {
      "cell_type": "code",
      "metadata": {
        "id": "opgqZE8v2i8Q",
        "colab": {
          "base_uri": "https://localhost:8080/"
        },
        "outputId": "9d7f5710-0eee-410f-8982-190a3fa83259"
      },
      "source": [
        "duplicate = ph[ph.duplicated()] \n",
        "print(\"Duplicate Rows :\",duplicate) "
      ],
      "execution_count": 11,
      "outputs": [
        {
          "output_type": "stream",
          "text": [
            "Duplicate Rows :                                       phone_url  ...                                            product\n",
            "342              /cellphones/samsung-galaxy-s8/  ...                            Samsung Galaxy S8 Zwart\n",
            "343              /cellphones/samsung-galaxy-s8/  ...                            Samsung Galaxy S8 Zwart\n",
            "371              /cellphones/samsung-galaxy-s8/  ...                            Samsung Galaxy S8 Zwart\n",
            "452              /cellphones/samsung-galaxy-s8/  ...                            Samsung Galaxy S8 Zwart\n",
            "3718    /cellphones/samsung-galaxy-s6-edgeplus/  ...  Samsung Galaxy S6 Edge+, Black 64GB (Verizon W...\n",
            "...                                         ...  ...                                                ...\n",
            "146836                  /cellphones/nokia-8850/  ...                                         Nokia 8850\n",
            "146838                  /cellphones/nokia-8850/  ...                                         Nokia 8850\n",
            "158911             /cellphones/samsung-sgh-600/  ...                              Samsung (936) SGH-600\n",
            "160164          /cellphones/philips-genie-2000/  ...                                 Philips Genie 2000\n",
            "161654              /cellphones/motorola-m3888/  ...                                     Motorola M3888\n",
            "\n",
            "[6412 rows x 11 columns]\n"
          ],
          "name": "stdout"
        }
      ]
    },
    {
      "cell_type": "code",
      "metadata": {
        "id": "FtYJddSm2i8R"
      },
      "source": [
        "#Removing duplicates rows\n",
        "ph.drop_duplicates(inplace=True)\n"
      ],
      "execution_count": 12,
      "outputs": []
    },
    {
      "cell_type": "code",
      "metadata": {
        "colab": {
          "base_uri": "https://localhost:8080/"
        },
        "id": "xwgXCBoK2i8R",
        "outputId": "f6c63374-3e2d-44d8-bb18-d6b3e4c0e2d0"
      },
      "source": [
        "ph.isnull().sum()"
      ],
      "execution_count": 13,
      "outputs": [
        {
          "output_type": "execute_result",
          "data": {
            "text/plain": [
              "phone_url        0\n",
              "date             0\n",
              "lang             0\n",
              "country          0\n",
              "source           0\n",
              "domain           0\n",
              "score        63093\n",
              "score_max    63093\n",
              "extract      19014\n",
              "author       61817\n",
              "product          1\n",
              "dtype: int64"
            ]
          },
          "metadata": {
            "tags": []
          },
          "execution_count": 13
        }
      ]
    },
    {
      "cell_type": "code",
      "metadata": {
        "colab": {
          "base_uri": "https://localhost:8080/"
        },
        "id": "UcKW-iiy2i8S",
        "outputId": "9301aec1-45a2-443c-f589-8f02fa968fb1"
      },
      "source": [
        "df1 = ph['score'][ph.isna().any(axis=1)].isna()\n",
        "df1"
      ],
      "execution_count": 14,
      "outputs": [
        {
          "output_type": "execute_result",
          "data": {
            "text/plain": [
              "270       False\n",
              "456       False\n",
              "489        True\n",
              "490        True\n",
              "491        True\n",
              "          ...  \n",
              "163706    False\n",
              "163708    False\n",
              "163712     True\n",
              "163713    False\n",
              "163800    False\n",
              "Name: score, Length: 137270, dtype: bool"
            ]
          },
          "metadata": {
            "tags": []
          },
          "execution_count": 14
        }
      ]
    },
    {
      "cell_type": "code",
      "metadata": {
        "id": "RhR-jC-W2i8S"
      },
      "source": [
        "#Rounding the ratings\n",
        "ph['score'] = ph['score'].round()\n"
      ],
      "execution_count": 15,
      "outputs": []
    },
    {
      "cell_type": "code",
      "metadata": {
        "id": "kJPekLqI2i8S"
      },
      "source": [
        "#Dropping the irrelivent column\n",
        "ph.drop(['phone_url', 'date', 'lang', 'country', 'source', 'domain','score_max','extract'], axis=1,inplace=True)"
      ],
      "execution_count": 17,
      "outputs": []
    },
    {
      "cell_type": "code",
      "metadata": {
        "colab": {
          "base_uri": "https://localhost:8080/",
          "height": 202
        },
        "id": "v1OtEqp02i8T",
        "outputId": "d5858e22-6fcf-453f-a8d5-e27caa018448"
      },
      "source": [
        "ph.head()"
      ],
      "execution_count": 18,
      "outputs": [
        {
          "output_type": "execute_result",
          "data": {
            "text/html": [
              "<div>\n",
              "<style scoped>\n",
              "    .dataframe tbody tr th:only-of-type {\n",
              "        vertical-align: middle;\n",
              "    }\n",
              "\n",
              "    .dataframe tbody tr th {\n",
              "        vertical-align: top;\n",
              "    }\n",
              "\n",
              "    .dataframe thead th {\n",
              "        text-align: right;\n",
              "    }\n",
              "</style>\n",
              "<table border=\"1\" class=\"dataframe\">\n",
              "  <thead>\n",
              "    <tr style=\"text-align: right;\">\n",
              "      <th></th>\n",
              "      <th>score</th>\n",
              "      <th>author</th>\n",
              "      <th>product</th>\n",
              "    </tr>\n",
              "  </thead>\n",
              "  <tbody>\n",
              "    <tr>\n",
              "      <th>0</th>\n",
              "      <td>10.0</td>\n",
              "      <td>CarolAnn35</td>\n",
              "      <td>Samsung Galaxy S8</td>\n",
              "    </tr>\n",
              "    <tr>\n",
              "      <th>1</th>\n",
              "      <td>10.0</td>\n",
              "      <td>james0923</td>\n",
              "      <td>Samsung Galaxy S8</td>\n",
              "    </tr>\n",
              "    <tr>\n",
              "      <th>2</th>\n",
              "      <td>6.0</td>\n",
              "      <td>R. Craig</td>\n",
              "      <td>Samsung Galaxy S8 (64GB) G950U 5.8\" 4G LTE Unl...</td>\n",
              "    </tr>\n",
              "    <tr>\n",
              "      <th>3</th>\n",
              "      <td>9.0</td>\n",
              "      <td>Buster2020</td>\n",
              "      <td>Samsung Galaxy S8 64GB (AT&amp;T)</td>\n",
              "    </tr>\n",
              "    <tr>\n",
              "      <th>4</th>\n",
              "      <td>4.0</td>\n",
              "      <td>S Ate Mine</td>\n",
              "      <td>Samsung Galaxy S8</td>\n",
              "    </tr>\n",
              "  </tbody>\n",
              "</table>\n",
              "</div>"
            ],
            "text/plain": [
              "   score       author                                            product\n",
              "0   10.0   CarolAnn35                                  Samsung Galaxy S8\n",
              "1   10.0    james0923                                  Samsung Galaxy S8\n",
              "2    6.0     R. Craig  Samsung Galaxy S8 (64GB) G950U 5.8\" 4G LTE Unl...\n",
              "3    9.0  Buster2020                       Samsung Galaxy S8 64GB (AT&T)\n",
              "4    4.0   S Ate Mine                                  Samsung Galaxy S8"
            ]
          },
          "metadata": {
            "tags": []
          },
          "execution_count": 18
        }
      ]
    },
    {
      "cell_type": "code",
      "metadata": {
        "id": "UxTbDE832i8T"
      },
      "source": [
        "#Imputing Nan with 0\r\n",
        "ph['score'] = ph['score'].replace(np.nan,0)\r\n",
        "ph['author'] = ph['author'].replace(np.nan,0)"
      ],
      "execution_count": 19,
      "outputs": []
    },
    {
      "cell_type": "code",
      "metadata": {
        "colab": {
          "base_uri": "https://localhost:8080/"
        },
        "id": "VVkTeZ8c2i8U",
        "outputId": "8617e27e-7576-435f-d453-ad28dcc9ce1d"
      },
      "source": [
        "ph['score'].isna().sum()"
      ],
      "execution_count": 20,
      "outputs": [
        {
          "output_type": "execute_result",
          "data": {
            "text/plain": [
              "0"
            ]
          },
          "metadata": {
            "tags": []
          },
          "execution_count": 20
        }
      ]
    },
    {
      "cell_type": "code",
      "metadata": {
        "colab": {
          "base_uri": "https://localhost:8080/"
        },
        "id": "pnlmSVJy_c7p",
        "outputId": "e06a6410-cab8-4b79-d940-7e6c84a9e07d"
      },
      "source": [
        "#Dropping score = 0 and author as Nan\r\n",
        "ph = ph[ph.author != 0]\r\n",
        "ph = ph[ph.score != 0]\r\n",
        "print(ph.shape)"
      ],
      "execution_count": 21,
      "outputs": [
        {
          "output_type": "stream",
          "text": [
            "(1286341, 3)\n"
          ],
          "name": "stdout"
        }
      ]
    },
    {
      "cell_type": "code",
      "metadata": {
        "colab": {
          "base_uri": "https://localhost:8080/"
        },
        "id": "9fH8U7sE4V6z",
        "outputId": "d53ccb80-d0b0-4a8e-ab0a-aa8de6722d5f"
      },
      "source": [
        "ph.info()"
      ],
      "execution_count": 22,
      "outputs": [
        {
          "output_type": "stream",
          "text": [
            "<class 'pandas.core.frame.DataFrame'>\n",
            "Int64Index: 1286341 entries, 0 to 163836\n",
            "Data columns (total 3 columns):\n",
            " #   Column   Non-Null Count    Dtype  \n",
            "---  ------   --------------    -----  \n",
            " 0   score    1286341 non-null  float64\n",
            " 1   author   1286341 non-null  object \n",
            " 2   product  1286341 non-null  object \n",
            "dtypes: float64(1), object(2)\n",
            "memory usage: 39.3+ MB\n"
          ],
          "name": "stdout"
        }
      ]
    },
    {
      "cell_type": "code",
      "metadata": {
        "colab": {
          "base_uri": "https://localhost:8080/",
          "height": 297
        },
        "id": "PXxsJneS2i8U",
        "outputId": "328895de-e10a-4aaa-cfbf-1b766c55eb28"
      },
      "source": [
        "import seaborn as sns\n",
        "sns.countplot(data=ph,x='score')"
      ],
      "execution_count": 23,
      "outputs": [
        {
          "output_type": "execute_result",
          "data": {
            "text/plain": [
              "<matplotlib.axes._subplots.AxesSubplot at 0x7f4696f63390>"
            ]
          },
          "metadata": {
            "tags": []
          },
          "execution_count": 23
        },
        {
          "output_type": "display_data",
          "data": {
            "image/png": "[encoded data removed]",
            "text/plain": [
              "<Figure size 432x288 with 1 Axes>"
            ]
          },
          "metadata": {
            "tags": [],
            "needs_background": "light"
          }
        }
      ]
    },
    {
      "cell_type": "code",
      "metadata": {
        "colab": {
          "base_uri": "https://localhost:8080/"
        },
        "id": "kYmH20YR2i8V",
        "outputId": "2caf80fb-d9bc-45a5-8f69-5a530e95c7b3"
      },
      "source": [
        "# Number of unique author in the data\n",
        "print('Count: unique author = ', ph['author'].nunique())\n",
        "# Number of unique product  in the data\n",
        "print('Count: unique product = ', ph['product'].nunique())"
      ],
      "execution_count": 24,
      "outputs": [
        {
          "output_type": "stream",
          "text": [
            "Count: unique author =  778953\n",
            "Count: unique product =  55274\n"
          ],
          "name": "stdout"
        }
      ]
    },
    {
      "cell_type": "code",
      "metadata": {
        "colab": {
          "base_uri": "https://localhost:8080/"
        },
        "id": "C5tdbKau2i8V",
        "outputId": "4d93f38f-0905-49ba-ef17-3a181bc2d8de"
      },
      "source": [
        "#Identify the most rated product/feaure\n",
        "ph.groupby('product')['score'].count().sort_values(ascending=False).head()  "
      ],
      "execution_count": 25,
      "outputs": [
        {
          "output_type": "execute_result",
          "data": {
            "text/plain": [
              "product\n",
              "Lenovo Vibe K4 Note (White,16GB)     5223\n",
              "Lenovo Vibe K4 Note (Black, 16GB)    4389\n",
              "OnePlus 3 (Graphite, 64 GB)          4103\n",
              "OnePlus 3 (Soft Gold, 64 GB)         3557\n",
              "Huawei P8lite zwart / 16 GB          2707\n",
              "Name: score, dtype: int64"
            ]
          },
          "metadata": {
            "tags": []
          },
          "execution_count": 25
        }
      ]
    },
    {
      "cell_type": "markdown",
      "metadata": {
        "id": "lUrgxOLAzmx1"
      },
      "source": [
        "Lenovo Vibe K4 Note (White,16GB) is rated 5223 times"
      ]
    },
    {
      "cell_type": "code",
      "metadata": {
        "colab": {
          "base_uri": "https://localhost:8080/"
        },
        "id": "bIyzC-sx2i8V",
        "outputId": "01bb8fa7-97c2-46eb-838a-37ef3fe5a508"
      },
      "source": [
        "#Identify the avg score in descending order\r\n",
        "ph.groupby('product')['score'].mean().sort_values(ascending=False).head()  "
      ],
      "execution_count": 26,
      "outputs": [
        {
          "output_type": "execute_result",
          "data": {
            "text/plain": [
              "product\n",
              "æ©æç½æ C168i                                        10.0\n",
              "Nokia Pureview 808 Wit                                    10.0\n",
              "Nokia Nokia Lumia 1520 Red                                10.0\n",
              "Nokia Nokia E72 Black Smartphone - Unlocked               10.0\n",
              "Nokia NOKIA206WHT Nokia 206 white Tesco mobile variant    10.0\n",
              "Name: score, dtype: float64"
            ]
          },
          "metadata": {
            "tags": []
          },
          "execution_count": 26
        }
      ]
    },
    {
      "cell_type": "code",
      "metadata": {
        "colab": {
          "base_uri": "https://localhost:8080/"
        },
        "id": "ZzEbuGmK2i8W",
        "outputId": "10b887f3-083d-4445-b8e6-7e318ec25770"
      },
      "source": [
        "#Identify the users with most number of reviews\n",
        "ph.groupby('author')['score'].count().sort_values(ascending=False).head()  "
      ],
      "execution_count": 27,
      "outputs": [
        {
          "output_type": "execute_result",
          "data": {
            "text/plain": [
              "author\n",
              "Amazon Customer    76933\n",
              "Cliente Amazon     19300\n",
              "e-bit               8411\n",
              "Client d'Amazon     7716\n",
              "Amazon Kunde        4746\n",
              "Name: score, dtype: int64"
            ]
          },
          "metadata": {
            "tags": []
          },
          "execution_count": 27
        }
      ]
    },
    {
      "cell_type": "markdown",
      "metadata": {
        "id": "A_oaLRVCz48b"
      },
      "source": [
        "Amazon Customer has most number of reviews = 76933"
      ]
    },
    {
      "cell_type": "code",
      "metadata": {
        "colab": {
          "base_uri": "https://localhost:8080/",
          "height": 1000
        },
        "id": "YXYwHADn2i8W",
        "outputId": "327ce10e-9299-46df-d23e-80ef6a313346"
      },
      "source": [
        "#Plotting popular products\n",
        "popular_products = pd.DataFrame(ph.groupby('product')['score'].count())\n",
        "most_popular = popular_products.sort_values('score', ascending=False)\n",
        "most_popular.head(30).plot(kind = \"bar\")"
      ],
      "execution_count": 28,
      "outputs": [
        {
          "output_type": "execute_result",
          "data": {
            "text/plain": [
              "<matplotlib.axes._subplots.AxesSubplot at 0x7f46964f4fd0>"
            ]
          },
          "metadata": {
            "tags": []
          },
          "execution_count": 28
        },
        {
          "output_type": "display_data",
          "data": {
            "image/png": "[encoded data removed]",
            "text/plain": [
              "<Figure size 432x288 with 1 Axes>"
            ]
          },
          "metadata": {
            "tags": [],
            "needs_background": "light"
          }
        }
      ]
    },
    {
      "cell_type": "markdown",
      "metadata": {
        "id": "M26t9qYREtJN"
      },
      "source": [
        "**Select the data with products having more than 50 ratings and users who have given more than 50 ratings** \r\n",
        "\r\n"
      ]
    },
    {
      "cell_type": "code",
      "metadata": {
        "id": "oZvxttMz2i8W"
      },
      "source": [
        "#Select the data with products having more than 50 ratings and users who have given more than 50 ratings.\n",
        "\n",
        "pdf1= ph.groupby('product').filter(lambda x: len(x)>50)  \n",
        "ph_new = pdf1.groupby('author').filter(lambda x: len(x)>50)\n",
        "\n",
        " "
      ],
      "execution_count": 29,
      "outputs": []
    },
    {
      "cell_type": "code",
      "metadata": {
        "colab": {
          "base_uri": "https://localhost:8080/"
        },
        "id": "sYK9VajS2i8X",
        "outputId": "eadd5e28-ad11-4f35-cea8-20a15934ab8d"
      },
      "source": [
        "ph_new.shape"
      ],
      "execution_count": 30,
      "outputs": [
        {
          "output_type": "execute_result",
          "data": {
            "text/plain": [
              "(150884, 3)"
            ]
          },
          "metadata": {
            "tags": []
          },
          "execution_count": 30
        }
      ]
    },
    {
      "cell_type": "markdown",
      "metadata": {
        "id": "ChQkAVA-Gayw"
      },
      "source": [
        "***Build a popularity based model and recommend top 5 mobile phones***"
      ]
    },
    {
      "cell_type": "code",
      "metadata": {
        "id": "hrDkxF3d2i8X"
      },
      "source": [
        "#Build a popularity based model and recommend top 5 mobile phones\n",
        "from sklearn.model_selection  import train_test_split\n",
        "train_data, test_data = train_test_split(ph_new, test_size = 0.30, random_state=612)"
      ],
      "execution_count": 31,
      "outputs": []
    },
    {
      "cell_type": "code",
      "metadata": {
        "id": "bCZx0FT92i8Y"
      },
      "source": [
        "#recommend function\n",
        "def get_reccomedations(data,k):\n",
        "    ph_product_Ratings = data.groupby('product')['score'].size().sort_values(ascending=False).head(k)\n",
        "    return(ph_product_Ratings)"
      ],
      "execution_count": 32,
      "outputs": []
    },
    {
      "cell_type": "code",
      "metadata": {
        "colab": {
          "base_uri": "https://localhost:8080/"
        },
        "id": "1O4r-aEd2i8Y",
        "outputId": "30e15c8c-bbc3-4599-f4e1-8d28417356a3"
      },
      "source": [
        "#recommend top 5 mobile phones test data\n",
        "k=5\n",
        "top5mobilephones=get_reccomedations(test_data,k)\n",
        "top5mobilephones"
      ],
      "execution_count": 33,
      "outputs": [
        {
          "output_type": "execute_result",
          "data": {
            "text/plain": [
              "product\n",
              "Lenovo Vibe K4 Note (White,16GB)       913\n",
              "Lenovo Vibe K4 Note (Black, 16GB)      798\n",
              "OnePlus 3 (Graphite, 64 GB)            552\n",
              "OnePlus 3 (Soft Gold, 64 GB)           523\n",
              "Lenovo Vibe K5 (Gold, VoLTE update)    479\n",
              "Name: score, dtype: int64"
            ]
          },
          "metadata": {
            "tags": []
          },
          "execution_count": 33
        }
      ]
    },
    {
      "cell_type": "code",
      "metadata": {
        "id": "zQuWab5D2i8Y",
        "colab": {
          "base_uri": "https://localhost:8080/"
        },
        "outputId": "cf928501-6678-4005-e180-869bb3831a75"
      },
      "source": [
        "#recommend top 5 mobile phones train data\n",
        "k=5\n",
        "top5mobilephones=get_reccomedations(train_data,k)\n",
        "top5mobilephones"
      ],
      "execution_count": 35,
      "outputs": [
        {
          "output_type": "execute_result",
          "data": {
            "text/plain": [
              "product\n",
              "Lenovo Vibe K4 Note (White,16GB)       2199\n",
              "Lenovo Vibe K4 Note (Black, 16GB)      1773\n",
              "OnePlus 3 (Graphite, 64 GB)            1323\n",
              "OnePlus 3 (Soft Gold, 64 GB)           1257\n",
              "Lenovo Vibe K5 (Gold, VoLTE update)    1111\n",
              "Name: score, dtype: int64"
            ]
          },
          "metadata": {
            "tags": []
          },
          "execution_count": 35
        }
      ]
    },
    {
      "cell_type": "code",
      "metadata": {
        "colab": {
          "base_uri": "https://localhost:8080/"
        },
        "id": "UKOZQ9Ux2i8Z",
        "outputId": "0e7313ed-44d7-415d-c2dc-66fd62bf03cf"
      },
      "source": [
        "!pip install surprise"
      ],
      "execution_count": 37,
      "outputs": [
        {
          "output_type": "stream",
          "text": [
            "Collecting surprise\n",
            "  Downloading https://files.pythonhosted.org/packages/61/de/e5cba8682201fcf9c3719a6fdda95693468ed061945493dea2dd37c5618b/surprise-0.1-py2.py3-none-any.whl\n",
            "Collecting scikit-surprise\n",
            "\u001b[?25l  Downloading https://files.pythonhosted.org/packages/97/37/5d334adaf5ddd65da99fc65f6507e0e4599d092ba048f4302fe8775619e8/scikit-surprise-1.1.1.tar.gz (11.8MB)\n",
            "\u001b[K     |████████████████████████████████| 11.8MB 5.7MB/s \n",
            "\u001b[?25hRequirement already satisfied: joblib>=0.11 in /usr/local/lib/python3.7/dist-packages (from scikit-surprise->surprise) (1.0.1)\n",
            "Requirement already satisfied: numpy>=1.11.2 in /usr/local/lib/python3.7/dist-packages (from scikit-surprise->surprise) (1.19.5)\n",
            "Requirement already satisfied: scipy>=1.0.0 in /usr/local/lib/python3.7/dist-packages (from scikit-surprise->surprise) (1.4.1)\n",
            "Requirement already satisfied: six>=1.10.0 in /usr/local/lib/python3.7/dist-packages (from scikit-surprise->surprise) (1.15.0)\n",
            "Building wheels for collected packages: scikit-surprise\n",
            "  Building wheel for scikit-surprise (setup.py) ... \u001b[?25l\u001b[?25hdone\n",
            "  Created wheel for scikit-surprise: filename=scikit_surprise-1.1.1-cp37-cp37m-linux_x86_64.whl size=1615274 sha256=64b855394a8dc62bda401bca5b421345f01646b13c17bcf72774663441081a57\n",
            "  Stored in directory: /root/.cache/pip/wheels/78/9c/3d/41b419c9d2aff5b6e2b4c0fc8d25c538202834058f9ed110d0\n",
            "Successfully built scikit-surprise\n",
            "Installing collected packages: scikit-surprise, surprise\n",
            "Successfully installed scikit-surprise-1.1.1 surprise-0.1\n"
          ],
          "name": "stdout"
        }
      ]
    },
    {
      "cell_type": "markdown",
      "metadata": {
        "id": "P35Jockr5fXQ"
      },
      "source": [
        "***#4. Build a collaborative filtering model using SVD.***"
      ]
    },
    {
      "cell_type": "code",
      "metadata": {
        "id": "bsVQ5c2D2i8Z"
      },
      "source": [
        "#4. Build a collaborative filtering model using SVD.\n",
        "#Transform data to surprise format\n",
        "from surprise import Dataset,Reader\n",
        "from surprise.model_selection import cross_validate\n",
        "from surprise import NormalPredictor\n",
        "reader = Reader(rating_scale=(1, 10))"
      ],
      "execution_count": 39,
      "outputs": []
    },
    {
      "cell_type": "code",
      "metadata": {
        "id": "T5_GMIAX2i8Z"
      },
      "source": [
        ""
      ],
      "execution_count": null,
      "outputs": []
    },
    {
      "cell_type": "code",
      "metadata": {
        "colab": {
          "base_uri": "https://localhost:8080/",
          "height": 509
        },
        "id": "XmZH6kyt2i8b",
        "outputId": "6a70311a-3e19-4ae2-bcc2-b4859c34cf96"
      },
      "source": [
        "#converting df to surprise dataset\n",
        "data1 = Dataset.load_from_df(ph_new[['author','product','score']],reader)\n",
        "data1.df.tail(15)"
      ],
      "execution_count": 43,
      "outputs": [
        {
          "output_type": "execute_result",
          "data": {
            "text/html": [
              "<div>\n",
              "<style scoped>\n",
              "    .dataframe tbody tr th:only-of-type {\n",
              "        vertical-align: middle;\n",
              "    }\n",
              "\n",
              "    .dataframe tbody tr th {\n",
              "        vertical-align: top;\n",
              "    }\n",
              "\n",
              "    .dataframe thead th {\n",
              "        text-align: right;\n",
              "    }\n",
              "</style>\n",
              "<table border=\"1\" class=\"dataframe\">\n",
              "  <thead>\n",
              "    <tr style=\"text-align: right;\">\n",
              "      <th></th>\n",
              "      <th>author</th>\n",
              "      <th>product</th>\n",
              "      <th>score</th>\n",
              "    </tr>\n",
              "  </thead>\n",
              "  <tbody>\n",
              "    <tr>\n",
              "      <th>160897</th>\n",
              "      <td>anonym</td>\n",
              "      <td>Ericsson T18s</td>\n",
              "      <td>10.0</td>\n",
              "    </tr>\n",
              "    <tr>\n",
              "      <th>161237</th>\n",
              "      <td>anonym</td>\n",
              "      <td>Ericsson T10s</td>\n",
              "      <td>10.0</td>\n",
              "    </tr>\n",
              "    <tr>\n",
              "      <th>161250</th>\n",
              "      <td>anonym</td>\n",
              "      <td>Ericsson T10s</td>\n",
              "      <td>10.0</td>\n",
              "    </tr>\n",
              "    <tr>\n",
              "      <th>161259</th>\n",
              "      <td>anonym</td>\n",
              "      <td>Ericsson T10s</td>\n",
              "      <td>8.0</td>\n",
              "    </tr>\n",
              "    <tr>\n",
              "      <th>161422</th>\n",
              "      <td>anonym</td>\n",
              "      <td>Motorola Timeport L7089</td>\n",
              "      <td>8.0</td>\n",
              "    </tr>\n",
              "    <tr>\n",
              "      <th>161908</th>\n",
              "      <td>anonym</td>\n",
              "      <td>Mitsubishi Astral</td>\n",
              "      <td>8.0</td>\n",
              "    </tr>\n",
              "    <tr>\n",
              "      <th>162301</th>\n",
              "      <td>Ana</td>\n",
              "      <td>Motorola CD930</td>\n",
              "      <td>2.0</td>\n",
              "    </tr>\n",
              "    <tr>\n",
              "      <th>162666</th>\n",
              "      <td>anonym</td>\n",
              "      <td>Alcatel One Touch Easy db</td>\n",
              "      <td>4.0</td>\n",
              "    </tr>\n",
              "    <tr>\n",
              "      <th>162966</th>\n",
              "      <td>anonym</td>\n",
              "      <td>Philips Savvy</td>\n",
              "      <td>8.0</td>\n",
              "    </tr>\n",
              "    <tr>\n",
              "      <th>162975</th>\n",
              "      <td>anonym</td>\n",
              "      <td>Philips Savvy</td>\n",
              "      <td>8.0</td>\n",
              "    </tr>\n",
              "    <tr>\n",
              "      <th>162980</th>\n",
              "      <td>anonym</td>\n",
              "      <td>Philips Savvy</td>\n",
              "      <td>6.0</td>\n",
              "    </tr>\n",
              "    <tr>\n",
              "      <th>162981</th>\n",
              "      <td>anonym</td>\n",
              "      <td>Philips Savvy</td>\n",
              "      <td>10.0</td>\n",
              "    </tr>\n",
              "    <tr>\n",
              "      <th>162987</th>\n",
              "      <td>anonym</td>\n",
              "      <td>Philips Savvy</td>\n",
              "      <td>4.0</td>\n",
              "    </tr>\n",
              "    <tr>\n",
              "      <th>162991</th>\n",
              "      <td>anonym</td>\n",
              "      <td>Philips Savvy</td>\n",
              "      <td>6.0</td>\n",
              "    </tr>\n",
              "    <tr>\n",
              "      <th>162992</th>\n",
              "      <td>anonym</td>\n",
              "      <td>Philips Savvy</td>\n",
              "      <td>6.0</td>\n",
              "    </tr>\n",
              "  </tbody>\n",
              "</table>\n",
              "</div>"
            ],
            "text/plain": [
              "        author                    product  score\n",
              "160897  anonym              Ericsson T18s   10.0\n",
              "161237  anonym              Ericsson T10s   10.0\n",
              "161250  anonym              Ericsson T10s   10.0\n",
              "161259  anonym              Ericsson T10s    8.0\n",
              "161422  anonym    Motorola Timeport L7089    8.0\n",
              "161908  anonym          Mitsubishi Astral    8.0\n",
              "162301     Ana             Motorola CD930    2.0\n",
              "162666  anonym  Alcatel One Touch Easy db    4.0\n",
              "162966  anonym              Philips Savvy    8.0\n",
              "162975  anonym              Philips Savvy    8.0\n",
              "162980  anonym              Philips Savvy    6.0\n",
              "162981  anonym              Philips Savvy   10.0\n",
              "162987  anonym              Philips Savvy    4.0\n",
              "162991  anonym              Philips Savvy    6.0\n",
              "162992  anonym              Philips Savvy    6.0"
            ]
          },
          "metadata": {
            "tags": []
          },
          "execution_count": 43
        }
      ]
    },
    {
      "cell_type": "code",
      "metadata": {
        "id": "u6bapc8l2i8b"
      },
      "source": [
        "#train_test_split \r\n",
        "from surprise.model_selection import train_test_split\r\n",
        "trainset1, testset1 = train_test_split(data1, test_size=.3,random_state=612)"
      ],
      "execution_count": 44,
      "outputs": []
    },
    {
      "cell_type": "code",
      "metadata": {
        "id": "IKAScOptA4qd"
      },
      "source": [
        "from surprise import SVD\r\n",
        "from surprise import accuracy"
      ],
      "execution_count": 45,
      "outputs": []
    },
    {
      "cell_type": "code",
      "metadata": {
        "colab": {
          "base_uri": "https://localhost:8080/"
        },
        "id": "2cmIROr-A82K",
        "outputId": "46b9a884-f64b-4edb-bdce-c40efd152310"
      },
      "source": [
        "#Apply SVD \r\n",
        "svd_model = SVD(n_factors=50,biased=False)\r\n",
        "svd_model.fit(trainset1)"
      ],
      "execution_count": 46,
      "outputs": [
        {
          "output_type": "execute_result",
          "data": {
            "text/plain": [
              "<surprise.prediction_algorithms.matrix_factorization.SVD at 0x7f468f232710>"
            ]
          },
          "metadata": {
            "tags": []
          },
          "execution_count": 46
        }
      ]
    },
    {
      "cell_type": "code",
      "metadata": {
        "id": "xTIC8sDkBNsb"
      },
      "source": [
        "#predict values\r\n",
        "test_pred1 = svd_model.test(testset1)"
      ],
      "execution_count": 47,
      "outputs": []
    },
    {
      "cell_type": "code",
      "metadata": {
        "colab": {
          "base_uri": "https://localhost:8080/"
        },
        "id": "jNt1oE59BRzG",
        "outputId": "45aea4c4-09f9-4785-d196-a4a92341bf90"
      },
      "source": [
        "rmse_svd =accuracy.rmse(test_pred1)\r\n",
        "print(\"RMSE for SVD = \",rmse_svd)"
      ],
      "execution_count": 50,
      "outputs": [
        {
          "output_type": "stream",
          "text": [
            "RMSE: 2.8492\n",
            "RMSE for SVD =  2.849188077963436\n"
          ],
          "name": "stdout"
        }
      ]
    },
    {
      "cell_type": "code",
      "metadata": {
        "id": "Ad6mqMAfcJO-",
        "colab": {
          "base_uri": "https://localhost:8080/"
        },
        "outputId": "a27cfbf0-ea1a-4a00-adc9-393c48c6ec92"
      },
      "source": [
        "#Cross Validate\r\n",
        "cross_validate(svd_model ,data1,cv=5, measures=['RMSE', 'MAE'], verbose=True)"
      ],
      "execution_count": 106,
      "outputs": [
        {
          "output_type": "stream",
          "text": [
            "Evaluating RMSE, MAE of algorithm SVD on 5 split(s).\n",
            "\n",
            "                  Fold 1  Fold 2  Fold 3  Fold 4  Fold 5  Mean    Std     \n",
            "RMSE (testset)    2.8057  2.8290  2.8119  2.8422  2.8273  2.8232  0.0130  \n",
            "MAE (testset)     2.1878  2.1829  2.1648  2.1916  2.2138  2.1882  0.0158  \n",
            "Fit time          4.80    4.68    4.73    4.72    4.75    4.74    0.04    \n",
            "Test time         0.22    0.21    0.21    0.21    0.21    0.21    0.00    \n"
          ],
          "name": "stdout"
        },
        {
          "output_type": "execute_result",
          "data": {
            "text/plain": [
              "{'fit_time': (4.802677631378174,\n",
              "  4.682778835296631,\n",
              "  4.733130693435669,\n",
              "  4.719698905944824,\n",
              "  4.751328706741333),\n",
              " 'test_mae': array([2.18781862, 2.18291646, 2.16476422, 2.19159006, 2.21381317]),\n",
              " 'test_rmse': array([2.80573211, 2.82901809, 2.81191307, 2.84224259, 2.82730555]),\n",
              " 'test_time': (0.22127842903137207,\n",
              "  0.2109849452972412,\n",
              "  0.21329331398010254,\n",
              "  0.20951151847839355,\n",
              "  0.21123600006103516)}"
            ]
          },
          "metadata": {
            "tags": []
          },
          "execution_count": 106
        }
      ]
    },
    {
      "cell_type": "code",
      "metadata": {
        "id": "7MDItuxbagdY"
      },
      "source": [
        "test_pred1=pd.DataFrame(test_pred1)\r\n",
        "# for userId, num= no of products\r\n",
        "def get_reccomedations_Collaborative_SVD(userId,num):\r\n",
        "  user_rec = test_pred1[test_pred1['uid'] == userId][['uid','iid','r_ui','est']].sort_values(by = 'est',ascending = False).head(num)\r\n",
        "  return user_rec"
      ],
      "execution_count": 67,
      "outputs": []
    },
    {
      "cell_type": "code",
      "metadata": {
        "colab": {
          "base_uri": "https://localhost:8080/",
          "height": 202
        },
        "id": "9HoTJll77c5B",
        "outputId": "40d77406-a328-47e7-8e9b-0b04aba39b2a"
      },
      "source": [
        "testset1_data= pd.DataFrame(testset1)\r\n",
        "testset1_data.head(5)\r\n"
      ],
      "execution_count": 76,
      "outputs": [
        {
          "output_type": "execute_result",
          "data": {
            "text/html": [
              "<div>\n",
              "<style scoped>\n",
              "    .dataframe tbody tr th:only-of-type {\n",
              "        vertical-align: middle;\n",
              "    }\n",
              "\n",
              "    .dataframe tbody tr th {\n",
              "        vertical-align: top;\n",
              "    }\n",
              "\n",
              "    .dataframe thead th {\n",
              "        text-align: right;\n",
              "    }\n",
              "</style>\n",
              "<table border=\"1\" class=\"dataframe\">\n",
              "  <thead>\n",
              "    <tr style=\"text-align: right;\">\n",
              "      <th></th>\n",
              "      <th>0</th>\n",
              "      <th>1</th>\n",
              "      <th>2</th>\n",
              "    </tr>\n",
              "  </thead>\n",
              "  <tbody>\n",
              "    <tr>\n",
              "      <th>0</th>\n",
              "      <td>Amazon Customer</td>\n",
              "      <td>YU Yuphoria YU5010A (Black+Silver)</td>\n",
              "      <td>10.0</td>\n",
              "    </tr>\n",
              "    <tr>\n",
              "      <th>1</th>\n",
              "      <td>Amazon Kunde</td>\n",
              "      <td>Huawei P8 lite Dual-SIM Smartphone (5 Zoll (12...</td>\n",
              "      <td>4.0</td>\n",
              "    </tr>\n",
              "    <tr>\n",
              "      <th>2</th>\n",
              "      <td>Nicolas</td>\n",
              "      <td>Samsung S8500 Wave</td>\n",
              "      <td>9.0</td>\n",
              "    </tr>\n",
              "    <tr>\n",
              "      <th>3</th>\n",
              "      <td>anonym</td>\n",
              "      <td>Nokia 5530 XpressMusic</td>\n",
              "      <td>8.0</td>\n",
              "    </tr>\n",
              "    <tr>\n",
              "      <th>4</th>\n",
              "      <td>Amazon Customer</td>\n",
              "      <td>BlackBerry Q10 Unlocked Cellphone, 16GB, Black</td>\n",
              "      <td>8.0</td>\n",
              "    </tr>\n",
              "  </tbody>\n",
              "</table>\n",
              "</div>"
            ],
            "text/plain": [
              "                 0                                                  1     2\n",
              "0  Amazon Customer                 YU Yuphoria YU5010A (Black+Silver)  10.0\n",
              "1     Amazon Kunde  Huawei P8 lite Dual-SIM Smartphone (5 Zoll (12...   4.0\n",
              "2          Nicolas                                 Samsung S8500 Wave   9.0\n",
              "3           anonym                             Nokia 5530 XpressMusic   8.0\n",
              "4  Amazon Customer     BlackBerry Q10 Unlocked Cellphone, 16GB, Black   8.0"
            ]
          },
          "metadata": {
            "tags": []
          },
          "execution_count": 76
        }
      ]
    },
    {
      "cell_type": "markdown",
      "metadata": {
        "id": "gYV9hMFP7F__"
      },
      "source": [
        "**Recommend top 5 products for test users**"
      ]
    },
    {
      "cell_type": "code",
      "metadata": {
        "colab": {
          "base_uri": "https://localhost:8080/",
          "height": 202
        },
        "id": "ii3F-K-IbDzK",
        "outputId": "a72a17a6-a0aa-456f-ecd4-d028e4ed5fc9"
      },
      "source": [
        "#recommend top 5 products for test users. ( 5 points)\r\n",
        "get_reccomedations_Collaborative_SVD('Amazon Customer',5)"
      ],
      "execution_count": 74,
      "outputs": [
        {
          "output_type": "execute_result",
          "data": {
            "text/html": [
              "<div>\n",
              "<style scoped>\n",
              "    .dataframe tbody tr th:only-of-type {\n",
              "        vertical-align: middle;\n",
              "    }\n",
              "\n",
              "    .dataframe tbody tr th {\n",
              "        vertical-align: top;\n",
              "    }\n",
              "\n",
              "    .dataframe thead th {\n",
              "        text-align: right;\n",
              "    }\n",
              "</style>\n",
              "<table border=\"1\" class=\"dataframe\">\n",
              "  <thead>\n",
              "    <tr style=\"text-align: right;\">\n",
              "      <th></th>\n",
              "      <th>uid</th>\n",
              "      <th>iid</th>\n",
              "      <th>r_ui</th>\n",
              "      <th>est</th>\n",
              "    </tr>\n",
              "  </thead>\n",
              "  <tbody>\n",
              "    <tr>\n",
              "      <th>21352</th>\n",
              "      <td>Amazon Customer</td>\n",
              "      <td>Nokia Lumia 1020, Yellow 32GB (AT&amp;T)</td>\n",
              "      <td>2.0</td>\n",
              "      <td>9.925794</td>\n",
              "    </tr>\n",
              "    <tr>\n",
              "      <th>29507</th>\n",
              "      <td>Amazon Customer</td>\n",
              "      <td>Samsung Galaxy S Duos II GT-S7582 Factory Unlo...</td>\n",
              "      <td>2.0</td>\n",
              "      <td>9.745644</td>\n",
              "    </tr>\n",
              "    <tr>\n",
              "      <th>30035</th>\n",
              "      <td>Amazon Customer</td>\n",
              "      <td>Samsung Galaxy S Duos II GT-S7582 Factory Unlo...</td>\n",
              "      <td>4.0</td>\n",
              "      <td>9.745644</td>\n",
              "    </tr>\n",
              "    <tr>\n",
              "      <th>23349</th>\n",
              "      <td>Amazon Customer</td>\n",
              "      <td>Samsung Galaxy S Duos II GT-S7582 Factory Unlo...</td>\n",
              "      <td>10.0</td>\n",
              "      <td>9.745644</td>\n",
              "    </tr>\n",
              "    <tr>\n",
              "      <th>1917</th>\n",
              "      <td>Amazon Customer</td>\n",
              "      <td>Samsung Galaxy S Duos II GT-S7582 Factory Unlo...</td>\n",
              "      <td>10.0</td>\n",
              "      <td>9.745644</td>\n",
              "    </tr>\n",
              "  </tbody>\n",
              "</table>\n",
              "</div>"
            ],
            "text/plain": [
              "                   uid  ...       est\n",
              "21352  Amazon Customer  ...  9.925794\n",
              "29507  Amazon Customer  ...  9.745644\n",
              "30035  Amazon Customer  ...  9.745644\n",
              "23349  Amazon Customer  ...  9.745644\n",
              "1917   Amazon Customer  ...  9.745644\n",
              "\n",
              "[5 rows x 4 columns]"
            ]
          },
          "metadata": {
            "tags": []
          },
          "execution_count": 74
        }
      ]
    },
    {
      "cell_type": "code",
      "metadata": {
        "colab": {
          "base_uri": "https://localhost:8080/",
          "height": 202
        },
        "id": "ggjHGzpFcG14",
        "outputId": "a72ca4c6-2447-400c-93a7-5117cc4a7a0f"
      },
      "source": [
        "get_reccomedations_Collaborative_SVD('Alejandro',5)"
      ],
      "execution_count": 77,
      "outputs": [
        {
          "output_type": "execute_result",
          "data": {
            "text/html": [
              "<div>\n",
              "<style scoped>\n",
              "    .dataframe tbody tr th:only-of-type {\n",
              "        vertical-align: middle;\n",
              "    }\n",
              "\n",
              "    .dataframe tbody tr th {\n",
              "        vertical-align: top;\n",
              "    }\n",
              "\n",
              "    .dataframe thead th {\n",
              "        text-align: right;\n",
              "    }\n",
              "</style>\n",
              "<table border=\"1\" class=\"dataframe\">\n",
              "  <thead>\n",
              "    <tr style=\"text-align: right;\">\n",
              "      <th></th>\n",
              "      <th>uid</th>\n",
              "      <th>iid</th>\n",
              "      <th>r_ui</th>\n",
              "      <th>est</th>\n",
              "    </tr>\n",
              "  </thead>\n",
              "  <tbody>\n",
              "    <tr>\n",
              "      <th>25709</th>\n",
              "      <td>Alejandro</td>\n",
              "      <td>Samsung Galaxy Nexus i9250 - Smartphone libre ...</td>\n",
              "      <td>8.0</td>\n",
              "      <td>10.000000</td>\n",
              "    </tr>\n",
              "    <tr>\n",
              "      <th>13644</th>\n",
              "      <td>Alejandro</td>\n",
              "      <td>Asus Zenfone 2 ZE551ML- Smartphone Android, Pa...</td>\n",
              "      <td>10.0</td>\n",
              "      <td>10.000000</td>\n",
              "    </tr>\n",
              "    <tr>\n",
              "      <th>23948</th>\n",
              "      <td>Alejandro</td>\n",
              "      <td>Apple iPhone SE Unlocked Phone - 64 GB Retail ...</td>\n",
              "      <td>8.0</td>\n",
              "      <td>10.000000</td>\n",
              "    </tr>\n",
              "    <tr>\n",
              "      <th>2921</th>\n",
              "      <td>Alejandro</td>\n",
              "      <td>APPLE iPhone 7 - Silver, 128 GB</td>\n",
              "      <td>10.0</td>\n",
              "      <td>9.714489</td>\n",
              "    </tr>\n",
              "    <tr>\n",
              "      <th>34890</th>\n",
              "      <td>Alejandro</td>\n",
              "      <td>Motorola Moto X</td>\n",
              "      <td>10.0</td>\n",
              "      <td>9.643525</td>\n",
              "    </tr>\n",
              "  </tbody>\n",
              "</table>\n",
              "</div>"
            ],
            "text/plain": [
              "             uid  ...        est\n",
              "25709  Alejandro  ...  10.000000\n",
              "13644  Alejandro  ...  10.000000\n",
              "23948  Alejandro  ...  10.000000\n",
              "2921   Alejandro  ...   9.714489\n",
              "34890  Alejandro  ...   9.643525\n",
              "\n",
              "[5 rows x 4 columns]"
            ]
          },
          "metadata": {
            "tags": []
          },
          "execution_count": 77
        }
      ]
    },
    {
      "cell_type": "markdown",
      "metadata": {
        "id": "I5pgXWTv-zLN"
      },
      "source": [
        "**Build a collaborative filtering model using kNNWithMeans from surprise**"
      ]
    },
    {
      "cell_type": "code",
      "metadata": {
        "id": "bdyKkCueBY2Z"
      },
      "source": [
        "#Build a collaborative filtering model using kNNWithMeans from surprise\r\n",
        "trainset2, testset2 = train_test_split(data1, test_size=.3,random_state=612)"
      ],
      "execution_count": 78,
      "outputs": []
    },
    {
      "cell_type": "code",
      "metadata": {
        "id": "tPB0936KCQ9b"
      },
      "source": [
        "from surprise import KNNWithMeans, accuracy, Prediction\r\n",
        "# compute  similarities between items\r\n",
        "algo_ub = KNNWithMeans(k=51, sim_options={'name': 'pearson' , 'user_based' : False})"
      ],
      "execution_count": 80,
      "outputs": []
    },
    {
      "cell_type": "code",
      "metadata": {
        "colab": {
          "base_uri": "https://localhost:8080/"
        },
        "id": "k09XWrJ3CbQc",
        "outputId": "576b09d0-ce42-4e95-a931-5e0b29bf40a6"
      },
      "source": [
        "algo_ub.fit(trainset2)"
      ],
      "execution_count": 81,
      "outputs": [
        {
          "output_type": "stream",
          "text": [
            "Computing the pearson similarity matrix...\n",
            "Done computing similarity matrix.\n"
          ],
          "name": "stdout"
        },
        {
          "output_type": "execute_result",
          "data": {
            "text/plain": [
              "<surprise.prediction_algorithms.knns.KNNWithMeans at 0x7f4685e9df90>"
            ]
          },
          "metadata": {
            "tags": []
          },
          "execution_count": 81
        }
      ]
    },
    {
      "cell_type": "code",
      "metadata": {
        "id": "5e_-kvfgC-nK"
      },
      "source": [
        "test_pred2 = algo_ub.test(testset2)"
      ],
      "execution_count": 83,
      "outputs": []
    },
    {
      "cell_type": "code",
      "metadata": {
        "id": "IB_EGYTigcuz"
      },
      "source": [
        "#test_pred2"
      ],
      "execution_count": null,
      "outputs": []
    },
    {
      "cell_type": "code",
      "metadata": {
        "colab": {
          "base_uri": "https://localhost:8080/"
        },
        "id": "scrGV2E2DUqA",
        "outputId": "983dc7b2-11fc-42fa-b707-c33fbcda141b"
      },
      "source": [
        "rmse_1 = accuracy.rmse(test_pred2)\r\n",
        "print(\"Item-based Model rmse = \",rmse_1)"
      ],
      "execution_count": 84,
      "outputs": [
        {
          "output_type": "stream",
          "text": [
            "RMSE: 2.8099\n",
            "Item-based Model rmse =  2.8099470496470755\n"
          ],
          "name": "stdout"
        }
      ]
    },
    {
      "cell_type": "code",
      "metadata": {
        "colab": {
          "base_uri": "https://localhost:8080/"
        },
        "id": "5WzoAagqh9-1",
        "outputId": "5cf55388-275f-4be5-85f3-fab56d0be3c5"
      },
      "source": [
        "test_pred2_df = pd.DataFrame(test_pred2)\r\n",
        "algo_ub.predict(uid = 'Amazon Customer', iid ='Celular Motorola EX115')"
      ],
      "execution_count": 85,
      "outputs": [
        {
          "output_type": "execute_result",
          "data": {
            "text/plain": [
              "Prediction(uid='Amazon Customer', iid='Celular Motorola EX115', r_ui=None, est=7.259668508287293, details={'actual_k': 0, 'was_impossible': False})"
            ]
          },
          "metadata": {
            "tags": []
          },
          "execution_count": 85
        }
      ]
    },
    {
      "cell_type": "code",
      "metadata": {
        "colab": {
          "base_uri": "https://localhost:8080/"
        },
        "id": "ZcTZU815iAlW",
        "outputId": "d12797b4-312f-4a94-a8c8-8b0b39abe06d"
      },
      "source": [
        "algo_ub.predict(uid = 'Amazon Customer', iid ='Asus ZenFone 2 Laser Smartphone, Display da 5')"
      ],
      "execution_count": 87,
      "outputs": [
        {
          "output_type": "execute_result",
          "data": {
            "text/plain": [
              "Prediction(uid='Amazon Customer', iid='Asus ZenFone 2 Laser Smartphone, Display da 5', r_ui=None, est=7.788161108901892, details={'was_impossible': True, 'reason': 'User and/or item is unknown.'})"
            ]
          },
          "metadata": {
            "tags": []
          },
          "execution_count": 87
        }
      ]
    },
    {
      "cell_type": "code",
      "metadata": {
        "id": "6-Zw_1TLF6Aq"
      },
      "source": [
        "testset_new2 = trainset2.build_anti_testset()"
      ],
      "execution_count": 88,
      "outputs": []
    },
    {
      "cell_type": "code",
      "metadata": {
        "colab": {
          "base_uri": "https://localhost:8080/"
        },
        "id": "YIddb1g3G17k",
        "outputId": "c79b1692-6bfb-4be2-83c9-e98a1c72e9dd"
      },
      "source": [
        "testset_new2[0:5]"
      ],
      "execution_count": 92,
      "outputs": [
        {
          "output_type": "execute_result",
          "data": {
            "text/plain": [
              "[('Amazon Customer',\n",
              "  'Sim Free Motorola Moto G 4th Generation Mobile Phone - Black',\n",
              "  7.788161108901892),\n",
              " ('Amazon Customer',\n",
              "  'Samsung Galaxy S4 mini Duos GT-I9192 (Ñ\\x87ÐµÑ\\x80Ð½Ñ\\x8bÐ¹)',\n",
              "  7.788161108901892),\n",
              " ('Amazon Customer',\n",
              "  'Apple Apple iPhone 5s - 32GB - Zilver',\n",
              "  7.788161108901892),\n",
              " ('Amazon Customer',\n",
              "  'BLU Life Pure Unlocked Phone (Black)',\n",
              "  7.788161108901892),\n",
              " ('Amazon Customer', 'Samsung Galaxy S3 Mini Smartphone', 7.788161108901892)]"
            ]
          },
          "metadata": {
            "tags": []
          },
          "execution_count": 92
        }
      ]
    },
    {
      "cell_type": "code",
      "metadata": {
        "id": "coXjtjzkHLNd"
      },
      "source": [
        "predictions2 = algo_ub.test(testset_new2)"
      ],
      "execution_count": 90,
      "outputs": []
    },
    {
      "cell_type": "code",
      "metadata": {
        "colab": {
          "base_uri": "https://localhost:8080/",
          "height": 202
        },
        "id": "gup1C3ILHYXX",
        "outputId": "148275b3-dada-4703-a05c-752cfc554a19"
      },
      "source": [
        "predictions2_df = pd.DataFrame([[x.uid,x.iid,x.est] for x in predictions2])\r\n",
        "\r\n",
        "predictions2_df.head()"
      ],
      "execution_count": 91,
      "outputs": [
        {
          "output_type": "execute_result",
          "data": {
            "text/html": [
              "<div>\n",
              "<style scoped>\n",
              "    .dataframe tbody tr th:only-of-type {\n",
              "        vertical-align: middle;\n",
              "    }\n",
              "\n",
              "    .dataframe tbody tr th {\n",
              "        vertical-align: top;\n",
              "    }\n",
              "\n",
              "    .dataframe thead th {\n",
              "        text-align: right;\n",
              "    }\n",
              "</style>\n",
              "<table border=\"1\" class=\"dataframe\">\n",
              "  <thead>\n",
              "    <tr style=\"text-align: right;\">\n",
              "      <th></th>\n",
              "      <th>0</th>\n",
              "      <th>1</th>\n",
              "      <th>2</th>\n",
              "    </tr>\n",
              "  </thead>\n",
              "  <tbody>\n",
              "    <tr>\n",
              "      <th>0</th>\n",
              "      <td>Amazon Customer</td>\n",
              "      <td>Sim Free Motorola Moto G 4th Generation Mobile...</td>\n",
              "      <td>9.735535</td>\n",
              "    </tr>\n",
              "    <tr>\n",
              "      <th>1</th>\n",
              "      <td>Amazon Customer</td>\n",
              "      <td>Samsung Galaxy S4 mini Duos GT-I9192 (ÑÐµÑÐ½...</td>\n",
              "      <td>8.650585</td>\n",
              "    </tr>\n",
              "    <tr>\n",
              "      <th>2</th>\n",
              "      <td>Amazon Customer</td>\n",
              "      <td>Apple Apple iPhone 5s - 32GB - Zilver</td>\n",
              "      <td>9.402062</td>\n",
              "    </tr>\n",
              "    <tr>\n",
              "      <th>3</th>\n",
              "      <td>Amazon Customer</td>\n",
              "      <td>BLU Life Pure Unlocked Phone (Black)</td>\n",
              "      <td>7.636514</td>\n",
              "    </tr>\n",
              "    <tr>\n",
              "      <th>4</th>\n",
              "      <td>Amazon Customer</td>\n",
              "      <td>Samsung Galaxy S3 Mini Smartphone</td>\n",
              "      <td>6.383544</td>\n",
              "    </tr>\n",
              "  </tbody>\n",
              "</table>\n",
              "</div>"
            ],
            "text/plain": [
              "                 0                                                  1         2\n",
              "0  Amazon Customer  Sim Free Motorola Moto G 4th Generation Mobile...  9.735535\n",
              "1  Amazon Customer  Samsung Galaxy S4 mini Duos GT-I9192 (ÑÐµÑÐ½...  8.650585\n",
              "2  Amazon Customer              Apple Apple iPhone 5s - 32GB - Zilver  9.402062\n",
              "3  Amazon Customer               BLU Life Pure Unlocked Phone (Black)  7.636514\n",
              "4  Amazon Customer                  Samsung Galaxy S3 Mini Smartphone  6.383544"
            ]
          },
          "metadata": {
            "tags": []
          },
          "execution_count": 91
        }
      ]
    },
    {
      "cell_type": "code",
      "metadata": {
        "colab": {
          "base_uri": "https://localhost:8080/",
          "height": 662
        },
        "id": "sq6ESswxinrf",
        "outputId": "6e41ef8e-67b1-43e8-dfbe-732754f79a40"
      },
      "source": [
        "predictions2_df.columns = [\"author\",\"product\",\"score\"]\r\n",
        "predictions2_df.sort_values(by=['author','score'],ascending=False,inplace=True)\r\n",
        "#op_10_records = predictions2_df.groupby('author')['Amazon Customer']\r\n",
        "#top_10_recommend\r\n",
        "predictions2_df[predictions2_df['author'] =='Amazon Customer'].head(20).reset_index(drop=True)"
      ],
      "execution_count": null,
      "outputs": [
        {
          "output_type": "execute_result",
          "data": {
            "text/html": [
              "<div>\n",
              "<style scoped>\n",
              "    .dataframe tbody tr th:only-of-type {\n",
              "        vertical-align: middle;\n",
              "    }\n",
              "\n",
              "    .dataframe tbody tr th {\n",
              "        vertical-align: top;\n",
              "    }\n",
              "\n",
              "    .dataframe thead th {\n",
              "        text-align: right;\n",
              "    }\n",
              "</style>\n",
              "<table border=\"1\" class=\"dataframe\">\n",
              "  <thead>\n",
              "    <tr style=\"text-align: right;\">\n",
              "      <th></th>\n",
              "      <th>author</th>\n",
              "      <th>product</th>\n",
              "      <th>score</th>\n",
              "    </tr>\n",
              "  </thead>\n",
              "  <tbody>\n",
              "    <tr>\n",
              "      <th>0</th>\n",
              "      <td>Amazon Customer</td>\n",
              "      <td>Sony Xperia Z1 Compact (ÑÐ¾Ð·Ð¾Ð²ÑÐ¹)</td>\n",
              "      <td>10.0</td>\n",
              "    </tr>\n",
              "    <tr>\n",
              "      <th>1</th>\n",
              "      <td>Amazon Customer</td>\n",
              "      <td>Samsung S5830 Galaxy Ace</td>\n",
              "      <td>10.0</td>\n",
              "    </tr>\n",
              "    <tr>\n",
              "      <th>2</th>\n",
              "      <td>Amazon Customer</td>\n",
              "      <td>Samsung Galaxy S4 mini GT-I9190 (ÑÐ¸Ð½Ð¸Ð¹)</td>\n",
              "      <td>10.0</td>\n",
              "    </tr>\n",
              "    <tr>\n",
              "      <th>3</th>\n",
              "      <td>Amazon Customer</td>\n",
              "      <td>Samsung Galaxy S5 SM-G900F 16GB (ÑÐµÑÐ½ÑÐ¹)</td>\n",
              "      <td>10.0</td>\n",
              "    </tr>\n",
              "    <tr>\n",
              "      <th>4</th>\n",
              "      <td>Amazon Customer</td>\n",
              "      <td>Sony Xperia SP (ÐºÑÐ°ÑÐ½ÑÐ¹)</td>\n",
              "      <td>10.0</td>\n",
              "    </tr>\n",
              "    <tr>\n",
              "      <th>5</th>\n",
              "      <td>Amazon Customer</td>\n",
              "      <td>BlackBerry Q5</td>\n",
              "      <td>10.0</td>\n",
              "    </tr>\n",
              "    <tr>\n",
              "      <th>6</th>\n",
              "      <td>Amazon Customer</td>\n",
              "      <td>Apple iPhone 5s 16GB (ÑÐµÑÑÐ¹ ÐºÐ¾ÑÐ¼Ð¾Ñ)</td>\n",
              "      <td>10.0</td>\n",
              "    </tr>\n",
              "    <tr>\n",
              "      <th>7</th>\n",
              "      <td>Amazon Customer</td>\n",
              "      <td>Nokia X2-02 Bright Red</td>\n",
              "      <td>10.0</td>\n",
              "    </tr>\n",
              "    <tr>\n",
              "      <th>8</th>\n",
              "      <td>Amazon Customer</td>\n",
              "      <td>Sony Xperia M (Ð±ÐµÐ»ÑÐ¹)</td>\n",
              "      <td>10.0</td>\n",
              "    </tr>\n",
              "    <tr>\n",
              "      <th>9</th>\n",
              "      <td>Amazon Customer</td>\n",
              "      <td>Huawei Ascend G600 (U8950)</td>\n",
              "      <td>10.0</td>\n",
              "    </tr>\n",
              "    <tr>\n",
              "      <th>10</th>\n",
              "      <td>Amazon Customer</td>\n",
              "      <td>HTC Desire SV T326e Black 4710937389005 UACRF</td>\n",
              "      <td>10.0</td>\n",
              "    </tr>\n",
              "    <tr>\n",
              "      <th>11</th>\n",
              "      <td>Amazon Customer</td>\n",
              "      <td>Samsung i9100 Galaxy S II</td>\n",
              "      <td>10.0</td>\n",
              "    </tr>\n",
              "    <tr>\n",
              "      <th>12</th>\n",
              "      <td>Amazon Customer</td>\n",
              "      <td>Samsung Galaxy Note5</td>\n",
              "      <td>10.0</td>\n",
              "    </tr>\n",
              "    <tr>\n",
              "      <th>13</th>\n",
              "      <td>Amazon Customer</td>\n",
              "      <td>Sony Xperia Z1 Compact (Ð±ÐµÐ»ÑÐ¹)</td>\n",
              "      <td>10.0</td>\n",
              "    </tr>\n",
              "    <tr>\n",
              "      <th>14</th>\n",
              "      <td>Amazon Customer</td>\n",
              "      <td>Huawei - P8 - Smartphone DÃ©bloquÃ© - 4G (Ecra...</td>\n",
              "      <td>10.0</td>\n",
              "    </tr>\n",
              "    <tr>\n",
              "      <th>15</th>\n",
              "      <td>Amazon Customer</td>\n",
              "      <td>Nokia 6303i classic</td>\n",
              "      <td>10.0</td>\n",
              "    </tr>\n",
              "    <tr>\n",
              "      <th>16</th>\n",
              "      <td>Amazon Customer</td>\n",
              "      <td>Asus ZenFone 2 Smartphone, 64 GB, Blu Fusion [...</td>\n",
              "      <td>10.0</td>\n",
              "    </tr>\n",
              "    <tr>\n",
              "      <th>17</th>\n",
              "      <td>Amazon Customer</td>\n",
              "      <td>Samsung GT-S5230 Star</td>\n",
              "      <td>10.0</td>\n",
              "    </tr>\n",
              "    <tr>\n",
              "      <th>18</th>\n",
              "      <td>Amazon Customer</td>\n",
              "      <td>EE Alcatel One Touch Pixi 3 3.5 inch</td>\n",
              "      <td>10.0</td>\n",
              "    </tr>\n",
              "    <tr>\n",
              "      <th>19</th>\n",
              "      <td>Amazon Customer</td>\n",
              "      <td>Sony Xperia M (ÑÐµÑÐ½ÑÐ¹)</td>\n",
              "      <td>10.0</td>\n",
              "    </tr>\n",
              "  </tbody>\n",
              "</table>\n",
              "</div>"
            ],
            "text/plain": [
              "             author                                            product  score\n",
              "0   Amazon Customer            Sony Xperia Z1 Compact (ÑÐ¾Ð·Ð¾Ð²ÑÐ¹)   10.0\n",
              "1   Amazon Customer                           Samsung S5830 Galaxy Ace   10.0\n",
              "2   Amazon Customer       Samsung Galaxy S4 mini GT-I9190 (ÑÐ¸Ð½Ð¸Ð¹)   10.0\n",
              "3   Amazon Customer     Samsung Galaxy S5 SM-G900F 16GB (ÑÐµÑÐ½ÑÐ¹)   10.0\n",
              "4   Amazon Customer                    Sony Xperia SP (ÐºÑÐ°ÑÐ½ÑÐ¹)   10.0\n",
              "5   Amazon Customer                                      BlackBerry Q5   10.0\n",
              "6   Amazon Customer     Apple iPhone 5s 16GB (ÑÐµÑÑÐ¹ ÐºÐ¾ÑÐ¼Ð¾Ñ)   10.0\n",
              "7   Amazon Customer                             Nokia X2-02 Bright Red   10.0\n",
              "8   Amazon Customer                         Sony Xperia M (Ð±ÐµÐ»ÑÐ¹)   10.0\n",
              "9   Amazon Customer                         Huawei Ascend G600 (U8950)   10.0\n",
              "10  Amazon Customer      HTC Desire SV T326e Black 4710937389005 UACRF   10.0\n",
              "11  Amazon Customer                          Samsung i9100 Galaxy S II   10.0\n",
              "12  Amazon Customer                               Samsung Galaxy Note5   10.0\n",
              "13  Amazon Customer                Sony Xperia Z1 Compact (Ð±ÐµÐ»ÑÐ¹)   10.0\n",
              "14  Amazon Customer  Huawei - P8 - Smartphone DÃ©bloquÃ© - 4G (Ecra...   10.0\n",
              "15  Amazon Customer                                Nokia 6303i classic   10.0\n",
              "16  Amazon Customer  Asus ZenFone 2 Smartphone, 64 GB, Blu Fusion [...   10.0\n",
              "17  Amazon Customer                              Samsung GT-S5230 Star   10.0\n",
              "18  Amazon Customer               EE Alcatel One Touch Pixi 3 3.5 inch   10.0\n",
              "19  Amazon Customer                       Sony Xperia M (ÑÐµÑÐ½ÑÐ¹)   10.0"
            ]
          },
          "metadata": {
            "tags": []
          },
          "execution_count": 267
        }
      ]
    },
    {
      "cell_type": "code",
      "metadata": {
        "colab": {
          "base_uri": "https://localhost:8080/"
        },
        "id": "Xu9wz0-IqlTr",
        "outputId": "8f6f2893-0819-447e-dc10-fcad3e58b349"
      },
      "source": [
        "#Cross Validate\r\n",
        "cross_validate(algo_ub, data1,cv=5, measures=['RMSE', 'MAE'], verbose=True) "
      ],
      "execution_count": 107,
      "outputs": [
        {
          "output_type": "stream",
          "text": [
            "Computing the pearson similarity matrix...\n",
            "Done computing similarity matrix.\n",
            "Computing the pearson similarity matrix...\n",
            "Done computing similarity matrix.\n",
            "Computing the pearson similarity matrix...\n",
            "Done computing similarity matrix.\n",
            "Computing the pearson similarity matrix...\n",
            "Done computing similarity matrix.\n",
            "Computing the pearson similarity matrix...\n",
            "Done computing similarity matrix.\n",
            "Evaluating RMSE, MAE of algorithm KNNWithMeans on 5 split(s).\n",
            "\n",
            "                  Fold 1  Fold 2  Fold 3  Fold 4  Fold 5  Mean    Std     \n",
            "RMSE (testset)    2.7919  2.7962  2.8020  2.7793  2.7920  2.7923  0.0075  \n",
            "MAE (testset)     2.1846  2.1924  2.1939  2.1759  2.1857  2.1865  0.0064  \n",
            "Fit time          331.85  316.77  331.90  354.75  352.01  337.46  14.15   \n",
            "Test time         588.13  579.43  590.35  594.82  597.00  589.94  6.13    \n"
          ],
          "name": "stdout"
        },
        {
          "output_type": "execute_result",
          "data": {
            "text/plain": [
              "{'fit_time': (331.85257625579834,\n",
              "  316.7697639465332,\n",
              "  331.90155720710754,\n",
              "  354.7497420310974,\n",
              "  352.0115735530853),\n",
              " 'test_mae': array([2.18457841, 2.19240407, 2.19387714, 2.17585607, 2.18567799]),\n",
              " 'test_rmse': array([2.79189146, 2.79622395, 2.80195661, 2.77929102, 2.79198663]),\n",
              " 'test_time': (588.1252284049988,\n",
              "  579.425050497055,\n",
              "  590.349116563797,\n",
              "  594.8197050094604,\n",
              "  596.9972274303436)}"
            ]
          },
          "metadata": {
            "tags": []
          },
          "execution_count": 107
        }
      ]
    },
    {
      "cell_type": "code",
      "metadata": {
        "colab": {
          "base_uri": "https://localhost:8080/"
        },
        "id": "714v-FMBinwg",
        "outputId": "3488d7fa-d35c-4bde-d89f-169e6163c83b"
      },
      "source": [
        "## compute  similarities between users\r\n",
        "algo_ib = KNNWithMeans(k=51, sim_options={'name': 'pearson' , 'user_based' : True})\r\n",
        "algo_ib.fit(trainset2)\r\n",
        "test_pred3 = algo_ib.test(testset2)\r\n",
        "accuracy.rmse(test_pred3)"
      ],
      "execution_count": 93,
      "outputs": [
        {
          "output_type": "stream",
          "text": [
            "Computing the pearson similarity matrix...\n",
            "Done computing similarity matrix.\n",
            "RMSE: 2.7802\n"
          ],
          "name": "stdout"
        },
        {
          "output_type": "execute_result",
          "data": {
            "text/plain": [
              "2.780220046542665"
            ]
          },
          "metadata": {
            "tags": []
          },
          "execution_count": 93
        }
      ]
    },
    {
      "cell_type": "code",
      "metadata": {
        "colab": {
          "base_uri": "https://localhost:8080/"
        },
        "id": "n91R11d9in1R",
        "outputId": "83fe0fac-c416-4d5a-afdc-2380c38311d3"
      },
      "source": [
        "test_pred3_df = pd.DataFrame(test_pred3)\r\n",
        "algo_ib.predict( iid ='Celular Motorola EX115',uid = 'Amazon Customer')"
      ],
      "execution_count": 94,
      "outputs": [
        {
          "output_type": "execute_result",
          "data": {
            "text/plain": [
              "Prediction(uid='Amazon Customer', iid='Celular Motorola EX115', r_ui=None, est=7.955753340786004, details={'actual_k': 1, 'was_impossible': False})"
            ]
          },
          "metadata": {
            "tags": []
          },
          "execution_count": 94
        }
      ]
    },
    {
      "cell_type": "code",
      "metadata": {
        "id": "Uiu2rK3vin3e"
      },
      "source": [
        "predictions3 = algo_ib.test(testset_new2)"
      ],
      "execution_count": 95,
      "outputs": []
    },
    {
      "cell_type": "code",
      "metadata": {
        "colab": {
          "base_uri": "https://localhost:8080/",
          "height": 202
        },
        "id": "PGHTYJodin59",
        "outputId": "0ccf2e96-abed-4236-9a95-77ea250a505e"
      },
      "source": [
        "predictions3_df = pd.DataFrame([[x.uid,x.iid, x.est] for x in predictions3])\r\n",
        "predictions3_df.head()"
      ],
      "execution_count": 96,
      "outputs": [
        {
          "output_type": "execute_result",
          "data": {
            "text/html": [
              "<div>\n",
              "<style scoped>\n",
              "    .dataframe tbody tr th:only-of-type {\n",
              "        vertical-align: middle;\n",
              "    }\n",
              "\n",
              "    .dataframe tbody tr th {\n",
              "        vertical-align: top;\n",
              "    }\n",
              "\n",
              "    .dataframe thead th {\n",
              "        text-align: right;\n",
              "    }\n",
              "</style>\n",
              "<table border=\"1\" class=\"dataframe\">\n",
              "  <thead>\n",
              "    <tr style=\"text-align: right;\">\n",
              "      <th></th>\n",
              "      <th>0</th>\n",
              "      <th>1</th>\n",
              "      <th>2</th>\n",
              "    </tr>\n",
              "  </thead>\n",
              "  <tbody>\n",
              "    <tr>\n",
              "      <th>0</th>\n",
              "      <td>Amazon Customer</td>\n",
              "      <td>Sim Free Motorola Moto G 4th Generation Mobile...</td>\n",
              "      <td>8.433385</td>\n",
              "    </tr>\n",
              "    <tr>\n",
              "      <th>1</th>\n",
              "      <td>Amazon Customer</td>\n",
              "      <td>Samsung Galaxy S4 mini Duos GT-I9192 (ÑÐµÑÐ½...</td>\n",
              "      <td>6.966893</td>\n",
              "    </tr>\n",
              "    <tr>\n",
              "      <th>2</th>\n",
              "      <td>Amazon Customer</td>\n",
              "      <td>Apple Apple iPhone 5s - 32GB - Zilver</td>\n",
              "      <td>7.050991</td>\n",
              "    </tr>\n",
              "    <tr>\n",
              "      <th>3</th>\n",
              "      <td>Amazon Customer</td>\n",
              "      <td>BLU Life Pure Unlocked Phone (Black)</td>\n",
              "      <td>6.902678</td>\n",
              "    </tr>\n",
              "    <tr>\n",
              "      <th>4</th>\n",
              "      <td>Amazon Customer</td>\n",
              "      <td>Samsung Galaxy S3 Mini Smartphone</td>\n",
              "      <td>6.909197</td>\n",
              "    </tr>\n",
              "  </tbody>\n",
              "</table>\n",
              "</div>"
            ],
            "text/plain": [
              "                 0                                                  1         2\n",
              "0  Amazon Customer  Sim Free Motorola Moto G 4th Generation Mobile...  8.433385\n",
              "1  Amazon Customer  Samsung Galaxy S4 mini Duos GT-I9192 (ÑÐµÑÐ½...  6.966893\n",
              "2  Amazon Customer              Apple Apple iPhone 5s - 32GB - Zilver  7.050991\n",
              "3  Amazon Customer               BLU Life Pure Unlocked Phone (Black)  6.902678\n",
              "4  Amazon Customer                  Samsung Galaxy S3 Mini Smartphone  6.909197"
            ]
          },
          "metadata": {
            "tags": []
          },
          "execution_count": 96
        }
      ]
    },
    {
      "cell_type": "code",
      "metadata": {
        "id": "9DBcCyouqmJQ"
      },
      "source": [
        "#Predict score for test users. (\r\n",
        "predictions3_df.columns = [\"author\",\"product\",\"score\"]\r\n",
        "predictions3_df.sort_values(by=['product','score'],ascending=False,inplace=True)\r\n",
        "#top_10_records = predictions3_df.groupby('author')['Amazon Customer']\r\n",
        "#top_10_recommend"
      ],
      "execution_count": 101,
      "outputs": []
    },
    {
      "cell_type": "code",
      "metadata": {
        "colab": {
          "base_uri": "https://localhost:8080/",
          "height": 662
        },
        "id": "DqCB1nUBO2Cr",
        "outputId": "84fc7785-e5ec-4fc9-91fd-e04e85316e0f"
      },
      "source": [
        "predictions3_df[predictions3_df['product'] =='Lenovo Vibe K4 Note (Black, 16GB)'].head(20).reset_index(drop=True)"
      ],
      "execution_count": 100,
      "outputs": [
        {
          "output_type": "execute_result",
          "data": {
            "text/html": [
              "<div>\n",
              "<style scoped>\n",
              "    .dataframe tbody tr th:only-of-type {\n",
              "        vertical-align: middle;\n",
              "    }\n",
              "\n",
              "    .dataframe tbody tr th {\n",
              "        vertical-align: top;\n",
              "    }\n",
              "\n",
              "    .dataframe thead th {\n",
              "        text-align: right;\n",
              "    }\n",
              "</style>\n",
              "<table border=\"1\" class=\"dataframe\">\n",
              "  <thead>\n",
              "    <tr style=\"text-align: right;\">\n",
              "      <th></th>\n",
              "      <th>author</th>\n",
              "      <th>product</th>\n",
              "      <th>score</th>\n",
              "    </tr>\n",
              "  </thead>\n",
              "  <tbody>\n",
              "    <tr>\n",
              "      <th>0</th>\n",
              "      <td>unknown</td>\n",
              "      <td>Lenovo Vibe K4 Note (Black, 16GB)</td>\n",
              "      <td>10.000000</td>\n",
              "    </tr>\n",
              "    <tr>\n",
              "      <th>1</th>\n",
              "      <td>mauro</td>\n",
              "      <td>Lenovo Vibe K4 Note (Black, 16GB)</td>\n",
              "      <td>10.000000</td>\n",
              "    </tr>\n",
              "    <tr>\n",
              "      <th>2</th>\n",
              "      <td>Rene</td>\n",
              "      <td>Lenovo Vibe K4 Note (Black, 16GB)</td>\n",
              "      <td>10.000000</td>\n",
              "    </tr>\n",
              "    <tr>\n",
              "      <th>3</th>\n",
              "      <td>Nicolas</td>\n",
              "      <td>Lenovo Vibe K4 Note (Black, 16GB)</td>\n",
              "      <td>10.000000</td>\n",
              "    </tr>\n",
              "    <tr>\n",
              "      <th>4</th>\n",
              "      <td>JD</td>\n",
              "      <td>Lenovo Vibe K4 Note (Black, 16GB)</td>\n",
              "      <td>10.000000</td>\n",
              "    </tr>\n",
              "    <tr>\n",
              "      <th>5</th>\n",
              "      <td>Henk</td>\n",
              "      <td>Lenovo Vibe K4 Note (Black, 16GB)</td>\n",
              "      <td>10.000000</td>\n",
              "    </tr>\n",
              "    <tr>\n",
              "      <th>6</th>\n",
              "      <td>George</td>\n",
              "      <td>Lenovo Vibe K4 Note (Black, 16GB)</td>\n",
              "      <td>10.000000</td>\n",
              "    </tr>\n",
              "    <tr>\n",
              "      <th>7</th>\n",
              "      <td>Bart</td>\n",
              "      <td>Lenovo Vibe K4 Note (Black, 16GB)</td>\n",
              "      <td>10.000000</td>\n",
              "    </tr>\n",
              "    <tr>\n",
              "      <th>8</th>\n",
              "      <td>Sven</td>\n",
              "      <td>Lenovo Vibe K4 Note (Black, 16GB)</td>\n",
              "      <td>9.912892</td>\n",
              "    </tr>\n",
              "    <tr>\n",
              "      <th>9</th>\n",
              "      <td>michael</td>\n",
              "      <td>Lenovo Vibe K4 Note (Black, 16GB)</td>\n",
              "      <td>9.857322</td>\n",
              "    </tr>\n",
              "    <tr>\n",
              "      <th>10</th>\n",
              "      <td>Rick</td>\n",
              "      <td>Lenovo Vibe K4 Note (Black, 16GB)</td>\n",
              "      <td>9.852130</td>\n",
              "    </tr>\n",
              "    <tr>\n",
              "      <th>11</th>\n",
              "      <td>Sebastian</td>\n",
              "      <td>Lenovo Vibe K4 Note (Black, 16GB)</td>\n",
              "      <td>9.762438</td>\n",
              "    </tr>\n",
              "    <tr>\n",
              "      <th>12</th>\n",
              "      <td>Ray</td>\n",
              "      <td>Lenovo Vibe K4 Note (Black, 16GB)</td>\n",
              "      <td>9.717770</td>\n",
              "    </tr>\n",
              "    <tr>\n",
              "      <th>13</th>\n",
              "      <td>Samuel</td>\n",
              "      <td>Lenovo Vibe K4 Note (Black, 16GB)</td>\n",
              "      <td>9.702178</td>\n",
              "    </tr>\n",
              "    <tr>\n",
              "      <th>14</th>\n",
              "      <td>ÐÐ»Ð¸Ð½Ð°</td>\n",
              "      <td>Lenovo Vibe K4 Note (Black, 16GB)</td>\n",
              "      <td>9.482759</td>\n",
              "    </tr>\n",
              "    <tr>\n",
              "      <th>15</th>\n",
              "      <td>ÐÐ»ÐµÐºÑÐ°Ð½Ð´ÑÐ°</td>\n",
              "      <td>Lenovo Vibe K4 Note (Black, 16GB)</td>\n",
              "      <td>9.480769</td>\n",
              "    </tr>\n",
              "    <tr>\n",
              "      <th>16</th>\n",
              "      <td>Vincent</td>\n",
              "      <td>Lenovo Vibe K4 Note (Black, 16GB)</td>\n",
              "      <td>9.475484</td>\n",
              "    </tr>\n",
              "    <tr>\n",
              "      <th>17</th>\n",
              "      <td>einem Kunden</td>\n",
              "      <td>Lenovo Vibe K4 Note (Black, 16GB)</td>\n",
              "      <td>9.468315</td>\n",
              "    </tr>\n",
              "    <tr>\n",
              "      <th>18</th>\n",
              "      <td>einer Kundin</td>\n",
              "      <td>Lenovo Vibe K4 Note (Black, 16GB)</td>\n",
              "      <td>9.459610</td>\n",
              "    </tr>\n",
              "    <tr>\n",
              "      <th>19</th>\n",
              "      <td>ÐÐ¸ÐºÐ¸ÑÐ°</td>\n",
              "      <td>Lenovo Vibe K4 Note (Black, 16GB)</td>\n",
              "      <td>9.453333</td>\n",
              "    </tr>\n",
              "  </tbody>\n",
              "</table>\n",
              "</div>"
            ],
            "text/plain": [
              "                  author                            product      score\n",
              "0                unknown  Lenovo Vibe K4 Note (Black, 16GB)  10.000000\n",
              "1                  mauro  Lenovo Vibe K4 Note (Black, 16GB)  10.000000\n",
              "2                   Rene  Lenovo Vibe K4 Note (Black, 16GB)  10.000000\n",
              "3                Nicolas  Lenovo Vibe K4 Note (Black, 16GB)  10.000000\n",
              "4                     JD  Lenovo Vibe K4 Note (Black, 16GB)  10.000000\n",
              "5                   Henk  Lenovo Vibe K4 Note (Black, 16GB)  10.000000\n",
              "6                 George  Lenovo Vibe K4 Note (Black, 16GB)  10.000000\n",
              "7                   Bart  Lenovo Vibe K4 Note (Black, 16GB)  10.000000\n",
              "8                   Sven  Lenovo Vibe K4 Note (Black, 16GB)   9.912892\n",
              "9                michael  Lenovo Vibe K4 Note (Black, 16GB)   9.857322\n",
              "10                  Rick  Lenovo Vibe K4 Note (Black, 16GB)   9.852130\n",
              "11             Sebastian  Lenovo Vibe K4 Note (Black, 16GB)   9.762438\n",
              "12                   Ray  Lenovo Vibe K4 Note (Black, 16GB)   9.717770\n",
              "13                Samuel  Lenovo Vibe K4 Note (Black, 16GB)   9.702178\n",
              "14            ÐÐ»Ð¸Ð½Ð°  Lenovo Vibe K4 Note (Black, 16GB)   9.482759\n",
              "15  ÐÐ»ÐµÐºÑÐ°Ð½Ð´ÑÐ°  Lenovo Vibe K4 Note (Black, 16GB)   9.480769\n",
              "16               Vincent  Lenovo Vibe K4 Note (Black, 16GB)   9.475484\n",
              "17          einem Kunden  Lenovo Vibe K4 Note (Black, 16GB)   9.468315\n",
              "18          einer Kundin  Lenovo Vibe K4 Note (Black, 16GB)   9.459610\n",
              "19          ÐÐ¸ÐºÐ¸ÑÐ°  Lenovo Vibe K4 Note (Black, 16GB)   9.453333"
            ]
          },
          "metadata": {
            "tags": []
          },
          "execution_count": 100
        }
      ]
    },
    {
      "cell_type": "code",
      "metadata": {
        "colab": {
          "base_uri": "https://localhost:8080/"
        },
        "id": "1ludxITZFEZ4",
        "outputId": "a3c2e766-cc53-472e-81b6-9686bfa38c2a"
      },
      "source": [
        "#Cross Validate\r\n",
        "cross_validate(algo_ib, data1,cv=5, measures=['RMSE', 'MAE'], verbose=True) "
      ],
      "execution_count": 108,
      "outputs": [
        {
          "output_type": "stream",
          "text": [
            "Computing the pearson similarity matrix...\n",
            "Done computing similarity matrix.\n",
            "Computing the pearson similarity matrix...\n",
            "Done computing similarity matrix.\n",
            "Computing the pearson similarity matrix...\n",
            "Done computing similarity matrix.\n",
            "Computing the pearson similarity matrix...\n",
            "Done computing similarity matrix.\n",
            "Computing the pearson similarity matrix...\n",
            "Done computing similarity matrix.\n",
            "Evaluating RMSE, MAE of algorithm KNNWithMeans on 5 split(s).\n",
            "\n",
            "                  Fold 1  Fold 2  Fold 3  Fold 4  Fold 5  Mean    Std     \n",
            "RMSE (testset)    2.7820  2.7728  2.7630  2.7681  2.7772  2.7726  0.0067  \n",
            "MAE (testset)     2.1679  2.1565  2.1577  2.1511  2.1580  2.1582  0.0054  \n",
            "Fit time          1.09    1.12    1.15    1.09    1.11    1.11    0.02    \n",
            "Test time         6.72    6.96    6.92    6.71    6.77    6.82    0.10    \n"
          ],
          "name": "stdout"
        },
        {
          "output_type": "execute_result",
          "data": {
            "text/plain": [
              "{'fit_time': (1.0855600833892822,\n",
              "  1.115222454071045,\n",
              "  1.1488897800445557,\n",
              "  1.090759515762329,\n",
              "  1.1086094379425049),\n",
              " 'test_mae': array([2.16788373, 2.15646073, 2.15771973, 2.15109278, 2.15796381]),\n",
              " 'test_rmse': array([2.78199665, 2.77284725, 2.76295035, 2.76808476, 2.77724105]),\n",
              " 'test_time': (6.724894046783447,\n",
              "  6.957316875457764,\n",
              "  6.918423175811768,\n",
              "  6.7116029262542725,\n",
              "  6.768482685089111)}"
            ]
          },
          "metadata": {
            "tags": []
          },
          "execution_count": 108
        }
      ]
    },
    {
      "cell_type": "markdown",
      "metadata": {
        "id": "VELwqtjAZYeC"
      },
      "source": [
        "Report your findings and inferences"
      ]
    },
    {
      "cell_type": "markdown",
      "metadata": {
        "id": "0V7oOFVUaEKJ"
      },
      "source": [
        "unique author =  778953\r\n",
        "unique product =  55274\r\n",
        "Also we have taken authr and products havings more than 50 ratings, so matrix is well balanced.\r\n",
        "\r\n",
        "1. The Popularity-based recommender system is non-personalised and the it shows same number of top recommendations irrespective of users.\r\n",
        "2. User based Collaborative recommendation has rmse=2.7802, CV=2.7726(mean)  \r\n",
        "3. Item based Collaborative recommendation has rmse=2.8099, CV=2.7923(mean)\r\n",
        "4. collaborative filtering model using SVD has rmse=2.8492, CV=2.8232(mean)\r\n",
        "\r\n",
        "User based CF recommendation has least RMSE value for given dataset"
      ]
    },
    {
      "cell_type": "markdown",
      "metadata": {
        "id": "4V7SY8NngTzQ"
      },
      "source": [
        "In what business scenario you should use popularity based Recommendation Systems?\r\n",
        "Popular recommendation is non-personalised, so it is same for every user who is visiting any website. it will always show top popular recommendations\r\n",
        "This information can be a starting point for user.\r\n",
        "it is implemented in many business models by \r\n",
        "1. Amazon, Flipkart, to check top products in different categories\r\n",
        "2. video search in youtube, dailymotion\r\n",
        "3. Audio search n Amazon prime music, spotify, gaana\r\n"
      ]
    },
    {
      "cell_type": "markdown",
      "metadata": {
        "id": "6b__EJFkhpXo"
      },
      "source": [
        "13. In what business scenario you should use CF based Recommendation Systems?\r\n",
        "\r\n",
        "Collaborative Filtering, is personalised, it only needs information about users historical preference on a set of items. \r\n",
        "The core assumption here is that the users who have agreed in the past tend to also agree in the future. \r\n",
        "In terms of user preference, The rating can be direct or indirect.\r\n",
        "Following two categories\r\n",
        "Explicit Rating: It is a rating given by a user to an item in numeric form, . This is the most direct feedback from users to show how much they like an item. \r\n",
        "Implicit Rating: suggests users preference indirectly, such as page views, clicks, purchase records, whether or not listen to a music track, and so on.\r\n",
        "\r\n",
        "Based on these information, CF based recommendation system finds place in\r\n",
        "1. selective product purchased from Amazon, flipkart, myntra based on other user ratings\r\n",
        "2. food items purchased from selective restaurant using user rating given to the restaurant or food item\r\n",
        "3. Book recommendation"
      ]
    },
    {
      "cell_type": "code",
      "metadata": {
        "id": "VSMpRTibrsE9"
      },
      "source": [
        ""
      ],
      "execution_count": null,
      "outputs": []
    },
    {
      "cell_type": "markdown",
      "metadata": {
        "id": "3gVapZKrkWXG"
      },
      "source": [
        "14. What other possible methods can you think of which can further improve the recommendation for different users?\r\n",
        "\r\n",
        "Sparsity: The user/rating should be balanced matrix.\r\n",
        "Clustering item: Users who have similar preference in one category of items may have totally different views on items of another kind. So cluster of items can be formed, similarity between users does not change significantly in the cluster, and average rating can be compared fom the cluster to the user who is selecting the item.\r\n",
        "user-based CF model: ditch user based CF, as it is difficult to find other users who have historically shown similar preferences to a given user,\r\n",
        "Use Item-based CF model:  In many cases items are static, and number of items are unaffected by the users, the set of items changes much less frequently than the number of users."
      ]
    }
  ]
}